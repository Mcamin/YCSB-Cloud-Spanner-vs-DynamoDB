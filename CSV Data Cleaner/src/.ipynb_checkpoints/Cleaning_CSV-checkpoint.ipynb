{
 "cells": [
  {
   "cell_type": "markdown",
   "metadata": {},
   "source": [
    "# Getting the Needed Values from benchmarking Results"
   ]
  },
  {
   "cell_type": "code",
   "execution_count": 6,
   "metadata": {},
   "outputs": [],
   "source": [
    "import pandas as pd \n",
    "from os import listdir\n",
    "import os\n",
    "\n",
    "def find_csv_filenames( path_to_dir, suffix=\".csv\" ):\n",
    "    filenames = listdir(path_to_dir)\n",
    "    return [ filename for filename in filenames if filename.endswith( suffix ) ]\n",
    "\n",
    "def Clean_CSV(file,name):\n",
    "    path_to_dir=file+name\n",
    "    input_df = pd.read_csv(path_to_dir, names = [\"A\", \"B\", \"C\"]) \n",
    "\n",
    "    #GET Needed Values from Column B \n",
    "    input_df = input_df[input_df['B'].str.contains(\"MinLatency\") |\n",
    "                   input_df['B'].str.contains(\"MaxLatency\") | \n",
    "                   input_df['B'].str.contains(\"AverageLatency\")|\n",
    "                   input_df['B'].str.contains(\"Throughput\")  ]\n",
    "    #Remove Cleanup Result from column A\n",
    "    input_df = input_df[input_df['A'].str.contains(\"READ\") |\n",
    "                        input_df['A'].str.contains(\"UPDATE\")  |\n",
    "                        input_df['A'].str.contains(\"INSERT\") |\n",
    "                        input_df['A'].str.contains(\"SCAN\") | \n",
    "                        input_df['B'].str.contains(\"Throughput\") ]\n",
    "    if not os.path.exists(file+\"Filtred\"):\n",
    "        os.mkdir(file+\"Filtred\")\n",
    "    fullname = os.path.join(file+\"Filtred\", name)    \n",
    "    input_df.to_csv(fullname, sep=',', encoding='utf-8',index=False)\n",
    "\n",
    "spanner_filenames_1 = find_csv_filenames(\"../Spanner/1M\")\n",
    "for name in spanner_filenames_1:\n",
    "    file = \"../Spanner/1M/\"\n",
    "    Clean_CSV(file,name)\n",
    "    \n",
    "spanner_filenames_5 = find_csv_filenames(\"../Spanner/5M\")\n",
    "for name in spanner_filenames_5:\n",
    "    file = \"../Spanner/5M/\"\n",
    "    Clean_CSV(file,name)\n",
    "    \n",
    "Dynamo_filenames_1 = find_csv_filenames(\"../Dynamo/1M\")\n",
    "for name in Dynamo_filenames_1:\n",
    "    file = \"../Dynamo/1M/\"\n",
    "    Clean_CSV(file,name)\n",
    "\n",
    "Dynamo_filenames_5 = find_csv_filenames(\"../Dynamo/5M\")\n",
    "for name in Dynamo_filenames_5:\n",
    "    file = \"../Dynamo/5M/\"\n",
    "    Clean_CSV(file,name)  \n"
   ]
  },
  {
   "cell_type": "markdown",
   "metadata": {},
   "source": [
    "### References\n",
    "\n",
    "[Stackoverflow](https://stackoverflow.com/)\n",
    "\n",
    "[Tutorialspoint](https://www.tutorialspoint.com/python/index.htm)\n",
    "\n",
    "[Python Tutorials](https://pythonspot.com/)\n",
    "\n",
    "[Python Data Science Handbook](http://shop.oreilly.com/product/0636920034919.do)\n",
    "\n"
   ]
  }
 ],
 "metadata": {
  "kernelspec": {
   "display_name": "Python 3",
   "language": "python",
   "name": "python3"
  },
  "language_info": {
   "codemirror_mode": {
    "name": "ipython",
    "version": 3
   },
   "file_extension": ".py",
   "mimetype": "text/x-python",
   "name": "python",
   "nbconvert_exporter": "python",
   "pygments_lexer": "ipython3",
   "version": "3.6.5"
  }
 },
 "nbformat": 4,
 "nbformat_minor": 2
}
